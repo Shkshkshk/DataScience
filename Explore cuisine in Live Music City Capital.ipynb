{
    "cells": [
        {
            "cell_type": "markdown",
            "metadata": {
                "collapsed": true
            },
            "source": "<h1>Explore cuisine in Live Music City Capital of the World- Austin Tx </H1>\n\n<h3>Introductions:</h3>\nAustin\u2019s official motto is the \u201cLive Music Capital of the World\u201d due to the high volume of venues hosting live music performances in the city, sometimes over 100 on the same night. Different taste cuisine and fast food center have targeted whole year by music lovers, travelers and foodies. Austin is the epicenter of oak-smoked barbecue and the greasy foothold of Tex-Mex fare. While longtime restaurants keep a close eye on the surprisingly abundant bounty the hot climate provides, new restaurants just keep coming due to Austin\u2019s relatively reasonable cost of doing business. Austin into three regional parts: East Side, South Lamar, and Downtown. But those sections comprise separate neighborhoods \u2014 each with its own identity.\n\n<h3>East Side:</h3>\nOn the other side of Highway 35, East Austin has changed over the years as the center of rapid gentrification. Developments led to a slew of newer restaurants right next door to older establishments. Go back in time with a simple plate of migas and biscuits from Cisco\u2019s, a Tex-Mex greasy spoon full of political history. For caffeine, stop at the city\u2019s favorite roastery/cafe, Cuvee Coffee. From the multitude of food trucks along East Sixth Street, try Baton Creole\u2019s deep-fried jambalaya on a stick. Or if you want drinks, head to Whisler\u2019s for thoughtful cocktails. End the evening at dive bar White Horse, full of two-stepping and cheap beer.\n\n<h3>South Lamar</h3>\nThe laid-back vibe of Austin lives on across the Colorado River within the South Austin area. Go straight for main artery South Lamar Boulevard. Here, you can wake up in the morning with well-made lattes from Patika. Book brunch at Odd Duck, brimming with local ingredients and house-made breads. New-school sushi might seem surprising for such a landlocked city, but you\u2019d be wrong to write Uchi off. Take advantage of the great deals found during the sushi restaurant\u2019s sake social hour. Line up at Ramen Tatsu-ya for restorative noodle soup in a fun space. Looking for the city\u2019s buzziest new restaurant? Loro from Tyson Cole and Aaron Franklin, full of Southeast Asian dishes, smoked meats, and frozen cocktails is the answer. Night owls can take a spin through P. Terry\u2019s drive-thru for solid burgers.\n\n<h3>Downtown</h3>\nAs hotels, high-rises, and office buildings go up, restaurants and bars continue to open in the center of the city, feeding the growing crowds of locals and tourists gaping at the Texas State Capitol or waiting for the bats to emerge. Coffee obsessives should hit up Houndstooth, where the baristas care deeply about every cup poured. Hunker down with rich and fun comfort food from punk rock diner Holy Roller. Explore the best of Austin\u2019s offerings with the city\u2019s first-ever food hall Fareground, featuring tacos from Dai Due and hummus from TLV, and more. A Top Chef fan? Check out the Line Austin Hotel\u2019s flagship restaurant Arlo Grey, from season ten winner Kristen Kish. Brave the Dirty Sixth hoards and make reservations for hard-to-find cocktail bar Midnight Cowboy. Don\u2019t let the buzzer throw you off.\n\n<h3>Target Audience:</h3>\nThis information provided by this report would be useful for people who are :-\n\nIn Austin and Pizza Lover\nBusiness personnel who wants to invest or open a Pizza place / restaurant.\nFirst time visitor of Austin, Tx, \nSky is the limit !\nProblem Statement:\nWhere and What no of pizza place in Austin and its neighbors?\nIn what Neighborhood what taste of restaurant is good?\n\n<h3>Data Description: </h3>\nTo consider the objective stated above, we can list the below data sources used for the analysis.\n\nA. Austin, Tx PostalCode ( includes neighborhoods with their Postal code).\n\nData source: Austin-zip-code.xlxs\n\nDescription: This data set contains the required information. And we will use this data set to explore various neighborhoods of Austin, Tx. Previously scraped Wikipedia and make .xlsx file.\n\nB. GeoSpace data for latitude and longitude of US Zip code.\n\nData source: us-zip-code-latitude-and-longitude.xlsx\n\nDescription: US Zip Code Latitude and Longitude open data (https://public.opendatasoft.com/explore/dataset/us-zip-code-latitude-and-longitude/export/)\n\nC. Fousquare API for search foods in each neighborhood of Austin, Tx.\n\nData source: Fousquare API\n\nDescription: Fousquare API for search food venues in each neighborhood of Austin, Tx (https://foursquare.com/ ).\n\n "
        },
        {
            "cell_type": "code",
            "execution_count": null,
            "metadata": {},
            "outputs": [],
            "source": ""
        }
    ],
    "metadata": {
        "kernelspec": {
            "display_name": "Python 3.7",
            "language": "python",
            "name": "python3"
        },
        "language_info": {
            "codemirror_mode": {
                "name": "ipython",
                "version": 3
            },
            "file_extension": ".py",
            "mimetype": "text/x-python",
            "name": "python",
            "nbconvert_exporter": "python",
            "pygments_lexer": "ipython3",
            "version": "3.7.9"
        }
    },
    "nbformat": 4,
    "nbformat_minor": 1
}